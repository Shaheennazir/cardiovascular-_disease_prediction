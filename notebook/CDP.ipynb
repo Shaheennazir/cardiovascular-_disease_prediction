{
 "cells": [
  {
   "cell_type": "code",
   "execution_count": null,
   "metadata": {
    "colab": {
     "base_uri": "https://localhost:8080/"
    },
    "executionInfo": {
     "elapsed": 7696,
     "status": "ok",
     "timestamp": 1760988968407,
     "user": {
      "displayName": "536 Shaheen Nazir",
      "userId": "17535038285588932970"
     },
     "user_tz": -330
    },
    "id": "I-PG7qtLCa6H",
    "outputId": "03198b80-cfac-44d6-ccd5-bd62f188deed"
   },
   "outputs": [
    {
     "name": "stdout",
     "output_type": "stream",
     "text": [
      "Checking NumPy version...\n",
      "Current NumPy version: 2.0.2\n",
      "⚠️ NumPy 2.0+ detected. Downgrading for wfdb compatibility...\n",
      "\u001b[2K     \u001b[90m━━━━━━━━━━━━━━━━━━━━━━━━━━━━━━━━━━━━━━━━\u001b[0m \u001b[32m61.0/61.0 kB\u001b[0m \u001b[31m4.2 MB/s\u001b[0m eta \u001b[36m0:00:00\u001b[0m\n",
      "\u001b[2K   \u001b[90m━━━━━━━━━━━━━━━━━━━━━━━━━━━━━━━━━━━━━━━━\u001b[0m \u001b[32m18.0/18.0 MB\u001b[0m \u001b[31m97.2 MB/s\u001b[0m eta \u001b[36m0:00:00\u001b[0m\n",
      "\u001b[?25h\u001b[31mERROR: pip's dependency resolver does not currently take into account all the packages that are installed. This behaviour is the source of the following dependency conflicts.\n",
      "opencv-python 4.12.0.88 requires numpy<2.3.0,>=2; python_version >= \"3.9\", but you have numpy 1.26.4 which is incompatible.\n",
      "opencv-contrib-python 4.12.0.88 requires numpy<2.3.0,>=2; python_version >= \"3.9\", but you have numpy 1.26.4 which is incompatible.\n",
      "opencv-python-headless 4.12.0.88 requires numpy<2.3.0,>=2; python_version >= \"3.9\", but you have numpy 1.26.4 which is incompatible.\n",
      "thinc 8.3.6 requires numpy<3.0.0,>=2.0.0, but you have numpy 1.26.4 which is incompatible.\u001b[0m\u001b[31m\n",
      "\u001b[0m"
     ]
    }
   ],
   "source": [
    "# Fix for wfdb compatibility with NumPy 2.0+\n",
    "print(\"Checking NumPy version...\")\n",
    "import numpy as np\n",
    "print(f\"Current NumPy version: {np.__version__}\")\n",
    "\n",
    "if int(np.__version__.split('.')[0]) >= 2:\n",
    "    print(\"⚠️ NumPy 2.0+ detected. Downgrading for wfdb compatibility...\")\n",
    "    !pip install \"numpy<2.0\" --force-reinstall -q\n",
    "    # Removed the sys.exit(0) and the print statement asking to restart"
   ]
  },
  {
   "cell_type": "code",
   "execution_count": null,
   "metadata": {
    "colab": {
     "base_uri": "https://localhost:8080/"
    },
    "executionInfo": {
     "elapsed": 11381,
     "status": "ok",
     "timestamp": 1760988985127,
     "user": {
      "displayName": "536 Shaheen Nazir",
      "userId": "17535038285588932970"
     },
     "user_tz": -330
    },
    "id": "N-duiR4XpD4Q",
    "outputId": "f043aa4e-df07-499c-8265-2fc8d02fd43f"
   },
   "outputs": [
    {
     "name": "stdout",
     "output_type": "stream",
     "text": [
      "Installing required packages...\n",
      "\n",
      "================================================================================\n",
      "COMPLETE CARDIOVASCULAR DISEASE PREDICTION SYSTEM\n",
      "================================================================================\n"
     ]
    }
   ],
   "source": [
    "print(\"Installing required packages...\")\n",
    "!pip install pandas==2.2.2 xgboost lightgbm catboost scikit-learn imbalanced-learn wfdb tensorflow -q\n",
    "\n",
    "import pandas as pd\n",
    "import numpy as np\n",
    "import matplotlib.pyplot as plt\n",
    "import seaborn as sns\n",
    "from sklearn.model_selection import train_test_split\n",
    "from sklearn.preprocessing import StandardScaler\n",
    "from sklearn.metrics import accuracy_score, precision_score, recall_score, f1_score, roc_auc_score, confusion_matrix, roc_curve\n",
    "from sklearn.ensemble import RandomForestClassifier\n",
    "import xgboost as xgb\n",
    "import lightgbm as lgb\n",
    "import catboost as cb\n",
    "import tensorflow as tf\n",
    "from tensorflow.keras import layers\n",
    "import joblib\n",
    "import json\n",
    "import warnings\n",
    "import wfdb\n",
    "import zipfile\n",
    "import os\n",
    "from scipy import signal as scipy_signal\n",
    "warnings.filterwarnings('ignore')\n",
    "\n",
    "# Set seeds\n",
    "np.random.seed(42)\n",
    "tf.random.set_seed(42)\n",
    "\n",
    "print(\"\\n\" + \"=\"*80)\n",
    "print(\"COMPLETE CARDIOVASCULAR DISEASE PREDICTION SYSTEM\")\n",
    "print(\"=\"*80)"
   ]
  },
  {
   "cell_type": "code",
   "execution_count": null,
   "metadata": {
    "colab": {
     "base_uri": "https://localhost:8080/"
    },
    "executionInfo": {
     "elapsed": 7,
     "status": "ok",
     "timestamp": 1760988680381,
     "user": {
      "displayName": "536 Shaheen Nazir",
      "userId": "17535038285588932970"
     },
     "user_tz": -330
    },
    "id": "Hqhtg_mstN0z",
    "outputId": "5cefed2b-33e1-4776-cb7d-d6eef2193ff5"
   },
   "outputs": [
    {
     "name": "stdout",
     "output_type": "stream",
     "text": [
      "\n",
      "================================================================================\n",
      "PART 1: TABULAR DATA MODEL (cardio_train.csv)\n",
      "================================================================================\n"
     ]
    }
   ],
   "source": [
    "print(\"\\n\" + \"=\"*80)\n",
    "print(\"PART 1: TABULAR DATA MODEL (cardio_train.csv)\")\n",
    "print(\"=\"*80)"
   ]
  },
  {
   "cell_type": "code",
   "execution_count": null,
   "metadata": {
    "colab": {
     "base_uri": "https://localhost:8080/"
    },
    "executionInfo": {
     "elapsed": 354,
     "status": "ok",
     "timestamp": 1760988683239,
     "user": {
      "displayName": "536 Shaheen Nazir",
      "userId": "17535038285588932970"
     },
     "user_tz": -330
    },
    "id": "nTLhe_SVtgPW",
    "outputId": "aed6f1ba-6e6b-4832-8be2-411a8b983b4f"
   },
   "outputs": [
    {
     "name": "stdout",
     "output_type": "stream",
     "text": [
      "\n",
      "================================================================================\n",
      "PART 1: TABULAR DATA MODEL (cardio_train.csv)\n",
      "================================================================================\n",
      "\n",
      "[1.1] Loading tabular data...\n",
      "Tabular dataset shape: (70000, 13)\n",
      "Removed 1356 outliers\n",
      "Train: 48077, Val: 10270, Test: 10297\n"
     ]
    }
   ],
   "source": [
    "print(\"\\n\" + \"=\"*80)\n",
    "print(\"PART 1: TABULAR DATA MODEL (cardio_train.csv)\")\n",
    "print(\"=\"*80)\n",
    "\n",
    "# ----------------------------------------------------------------------------\n",
    "# 1.1 Load and Preprocess Tabular Data\n",
    "# ----------------------------------------------------------------------------\n",
    "print(\"\\n[1.1] Loading tabular data...\")\n",
    "df_tabular = pd.read_csv('cardio_train.csv', sep=';')\n",
    "print(f\"Tabular dataset shape: {df_tabular.shape}\")\n",
    "\n",
    "# Drop ID, handle outliers\n",
    "if 'id' in df_tabular.columns:\n",
    "    df_tabular = df_tabular.drop('id', axis=1)\n",
    "\n",
    "initial_shape = df_tabular.shape[0]\n",
    "df_tabular = df_tabular[(df_tabular['ap_hi'] >= 80) & (df_tabular['ap_hi'] <= 250)]\n",
    "df_tabular = df_tabular[(df_tabular['ap_lo'] >= 40) & (df_tabular['ap_lo'] <= 150)]\n",
    "df_tabular = df_tabular[(df_tabular['height'] >= 130) & (df_tabular['height'] <= 220)]\n",
    "df_tabular = df_tabular[(df_tabular['weight'] >= 30) & (df_tabular['weight'] <= 200)]\n",
    "print(f\"Removed {initial_shape - df_tabular.shape[0]} outliers\")\n",
    "\n",
    "# Split data\n",
    "X_tab = df_tabular.drop('cardio', axis=1)\n",
    "y_tab = df_tabular['cardio']\n",
    "\n",
    "X_tab_temp, X_tab_test, y_tab_temp, y_tab_test = train_test_split(\n",
    "    X_tab, y_tab, test_size=0.15, random_state=42, stratify=y_tab\n",
    ")\n",
    "X_tab_train, X_tab_val, y_tab_train, y_tab_val = train_test_split(\n",
    "    X_tab_temp, y_tab_temp, test_size=0.176, random_state=42, stratify=y_tab_temp\n",
    ")\n",
    "\n",
    "print(f\"Train: {X_tab_train.shape[0]}, Val: {X_tab_val.shape[0]}, Test: {X_tab_test.shape[0]}\")\n",
    "\n",
    "# Scale features\n",
    "scaler_tab = StandardScaler()\n",
    "X_tab_train_scaled = scaler_tab.fit_transform(X_tab_train)\n",
    "X_tab_val_scaled = scaler_tab.transform(X_tab_val)\n",
    "X_tab_test_scaled = scaler_tab.transform(X_tab_test)"
   ]
  },
  {
   "cell_type": "code",
   "execution_count": null,
   "metadata": {
    "colab": {
     "background_save": true,
     "base_uri": "https://localhost:8080/"
    },
    "executionInfo": {
     "elapsed": 124699,
     "status": "ok",
     "timestamp": 1760988810817,
     "user": {
      "displayName": "536 Shaheen Nazir",
      "userId": "17535038285588932970"
     },
     "user_tz": -330
    },
    "id": "2FbnN6lutiwe",
    "outputId": "0142b071-1046-4b09-9ffc-8994b1954cea"
   },
   "outputs": [
    {
     "name": "stdout",
     "output_type": "stream",
     "text": [
      "\n",
      "[1.2] Training tabular models...\n",
      "  Training XGBoost...\n",
      "  Training LightGBM...\n",
      "Training until validation scores don't improve for 50 rounds\n",
      "Early stopping, best iteration is:\n",
      "[89]\tvalid_0's binary_logloss: 0.54704\n",
      "  Training Neural Network...\n",
      "  Training Tabular Transformer...\n"
     ]
    }
   ],
   "source": [
    "print(\"\\n[1.2] Training tabular models...\")\n",
    "\n",
    "tabular_models = {}\n",
    "\n",
    "# XGBoost\n",
    "print(\"  Training XGBoost...\")\n",
    "xgb_tab = xgb.XGBClassifier(\n",
    "    n_estimators=300, max_depth=7, learning_rate=0.05,\n",
    "    subsample=0.85, colsample_bytree=0.85, random_state=42,\n",
    "    eval_metric='logloss', use_label_encoder=False\n",
    ")\n",
    "xgb_tab.fit(X_tab_train_scaled, y_tab_train, eval_set=[(X_tab_val_scaled, y_tab_val)], verbose=False)\n",
    "tabular_models['XGBoost'] = xgb_tab\n",
    "\n",
    "# LightGBM\n",
    "print(\"  Training LightGBM...\")\n",
    "lgb_tab = lgb.LGBMClassifier(\n",
    "    n_estimators=300, max_depth=8, learning_rate=0.05,\n",
    "    num_leaves=50, subsample=0.85, random_state=42, verbose=-1\n",
    ")\n",
    "lgb_tab.fit(X_tab_train_scaled, y_tab_train, eval_set=[(X_tab_val_scaled, y_tab_val)],\n",
    "            callbacks=[lgb.early_stopping(50), lgb.log_evaluation(0)])\n",
    "tabular_models['LightGBM'] = lgb_tab\n",
    "\n",
    "# Neural Network\n",
    "print(\"  Training Neural Network...\")\n",
    "from tensorflow import keras\n",
    "nn_tab = keras.Sequential([\n",
    "    layers.Dense(128, activation='relu', input_shape=(X_tab_train_scaled.shape[1],)),\n",
    "    layers.BatchNormalization(),\n",
    "    layers.Dropout(0.3),\n",
    "    layers.Dense(64, activation='relu'),\n",
    "    layers.BatchNormalization(),\n",
    "    layers.Dropout(0.3),\n",
    "    layers.Dense(32, activation='relu'),\n",
    "    layers.Dropout(0.2),\n",
    "    layers.Dense(1, activation='sigmoid')\n",
    "])\n",
    "nn_tab.compile(optimizer=keras.optimizers.Adam(0.001), loss='binary_crossentropy',\n",
    "               metrics=['accuracy', keras.metrics.AUC(name='auc')])\n",
    "early_stop = keras.callbacks.EarlyStopping(monitor='val_loss', patience=10, restore_best_weights=True)\n",
    "nn_tab.fit(X_tab_train_scaled, y_tab_train, validation_data=(X_tab_val_scaled, y_tab_val),\n",
    "           epochs=50, batch_size=256, callbacks=[early_stop], verbose=0)\n",
    "tabular_models['NeuralNetwork'] = nn_tab\n",
    "\n",
    "# Transformer for Tabular\n",
    "print(\"  Training Tabular Transformer...\")\n",
    "\n",
    "class TabTransformer(keras.Model):\n",
    "    def __init__(self, num_features, num_heads=8, ff_dim=256, num_blocks=4, mlp_units=[128, 64, 32], dropout=0.1):\n",
    "        super(TabTransformer, self).__init__()\n",
    "        self.feature_embedding = layers.Dense(64, activation='relu')\n",
    "        self.embed_norm = layers.LayerNormalization()\n",
    "\n",
    "        self.transformer_blocks = []\n",
    "        for _ in range(num_blocks):\n",
    "            self.transformer_blocks.append({\n",
    "                'attention': layers.MultiHeadAttention(num_heads=num_heads, key_dim=64),\n",
    "                'norm1': layers.LayerNormalization(),\n",
    "                'ffn': keras.Sequential([layers.Dense(ff_dim, activation='relu'),\n",
    "                                        layers.Dropout(dropout), layers.Dense(64)]),\n",
    "                'norm2': layers.LayerNormalization(),\n",
    "                'dropout': layers.Dropout(dropout)\n",
    "            })\n",
    "\n",
    "        self.mlp = keras.Sequential()\n",
    "        for units in mlp_units:\n",
    "            self.mlp.add(layers.Dense(units, activation='relu'))\n",
    "            self.mlp.add(layers.Dropout(dropout))\n",
    "        self.mlp.add(layers.Dense(1, activation='sigmoid'))\n",
    "\n",
    "    def call(self, inputs, training=False):\n",
    "        x = self.feature_embedding(inputs)\n",
    "        x = self.embed_norm(x)\n",
    "        x = tf.expand_dims(x, 1)\n",
    "\n",
    "        for block in self.transformer_blocks:\n",
    "            attn_output = block['attention'](x, x, training=training)\n",
    "            attn_output = block['dropout'](attn_output, training=training)\n",
    "            x = block['norm1'](x + attn_output)\n",
    "            ffn_output = block['ffn'](x, training=training)\n",
    "            x = block['norm2'](x + ffn_output)\n",
    "\n",
    "        x = tf.reduce_mean(x, axis=1)\n",
    "        return self.mlp(x, training=training)\n",
    "\n",
    "transformer_tab = TabTransformer(num_features=X_tab_train_scaled.shape[1])\n",
    "transformer_tab.compile(optimizer=keras.optimizers.Adam(0.0005), loss='binary_crossentropy',\n",
    "                       metrics=['accuracy', keras.metrics.AUC(name='auc')])\n",
    "transformer_tab.build(input_shape=(None, X_tab_train_scaled.shape[1]))\n",
    "early_stop_tf = keras.callbacks.EarlyStopping(monitor='val_loss', patience=15, restore_best_weights=True)\n",
    "transformer_tab.fit(X_tab_train_scaled, y_tab_train, validation_data=(X_tab_val_scaled, y_tab_val),\n",
    "                   epochs=20, batch_size=256, callbacks=[early_stop_tf], verbose=0)\n",
    "tabular_models['Transformer'] = transformer_tab"
   ]
  },
  {
   "cell_type": "code",
   "execution_count": null,
   "metadata": {
    "colab": {
     "base_uri": "https://localhost:8080/"
    },
    "executionInfo": {
     "elapsed": 5485,
     "status": "ok",
     "timestamp": 1760988821428,
     "user": {
      "displayName": "536 Shaheen Nazir",
      "userId": "17535038285588932970"
     },
     "user_tz": -330
    },
    "id": "1n9dpvXPtuhf",
    "outputId": "a71ed3f9-5873-4226-96ef-25d635c2b685"
   },
   "outputs": [
    {
     "name": "stdout",
     "output_type": "stream",
     "text": [
      "\n",
      "[1.3] Evaluating tabular models...\n",
      "  XGBoost: Accuracy=0.7346, ROC-AUC=0.7970\n",
      "  LightGBM: Accuracy=0.7368, ROC-AUC=0.7998\n",
      "  NeuralNetwork: Accuracy=0.7375, ROC-AUC=0.7984\n",
      "  Transformer: Accuracy=0.7253, ROC-AUC=0.7939\n",
      "\n",
      "Best Tabular Model: LightGBM (ROC-AUC: 0.7998)\n"
     ]
    }
   ],
   "source": [
    "print(\"\\n[1.3] Evaluating tabular models...\")\n",
    "tabular_results = {}\n",
    "\n",
    "for model_name, model in tabular_models.items():\n",
    "    if model_name in ['NeuralNetwork', 'Transformer']:\n",
    "        y_pred_proba = model.predict(X_tab_test_scaled, verbose=0).flatten()\n",
    "        y_pred = (y_pred_proba > 0.5).astype(int)\n",
    "    else:\n",
    "        y_pred = model.predict(X_tab_test_scaled)\n",
    "        y_pred_proba = model.predict_proba(X_tab_test_scaled)[:, 1]\n",
    "\n",
    "    tabular_results[model_name] = {\n",
    "        'accuracy': accuracy_score(y_tab_test, y_pred),\n",
    "        'roc_auc': roc_auc_score(y_tab_test, y_pred_proba),\n",
    "        'predictions': y_pred,\n",
    "        'probabilities': y_pred_proba\n",
    "    }\n",
    "    print(f\"  {model_name}: Accuracy={tabular_results[model_name]['accuracy']:.4f}, \"\n",
    "          f\"ROC-AUC={tabular_results[model_name]['roc_auc']:.4f}\")\n",
    "\n",
    "# Save best tabular model\n",
    "best_tab_model = max(tabular_results, key=lambda x: tabular_results[x]['roc_auc'])\n",
    "print(f\"\\nBest Tabular Model: {best_tab_model} (ROC-AUC: {tabular_results[best_tab_model]['roc_auc']:.4f})\")\n",
    "\n",
    "joblib.dump(scaler_tab, 'tabular_scaler.pkl')\n",
    "if best_tab_model in ['NeuralNetwork', 'Transformer']:\n",
    "    tabular_models[best_tab_model].save('best_tabular_model.h5')\n",
    "else:\n",
    "    joblib.dump(tabular_models[best_tab_model], 'best_tabular_model.pkl')"
   ]
  },
  {
   "cell_type": "code",
   "execution_count": null,
   "metadata": {
    "colab": {
     "base_uri": "https://localhost:8080/",
     "height": 1000
    },
    "executionInfo": {
     "elapsed": 2850,
     "status": "error",
     "timestamp": 1760989299880,
     "user": {
      "displayName": "536 Shaheen Nazir",
      "userId": "17535038285588932970"
     },
     "user_tz": -330
    },
    "id": "xDdEkOtrCCvH",
    "outputId": "bbcd0f73-a0de-42c2-d007-9dd058eade5a"
   },
   "outputs": [
    {
     "name": "stdout",
     "output_type": "stream",
     "text": [
      "\n",
      "[2.2] Processing ECG signals and extracting heartbeats...\n"
     ]
    },
    {
     "name": "stderr",
     "output_type": "stream",
     "text": [
      "Processing Records:   2%|▏         | 1/48 [00:00<00:05,  8.20it/s]"
     ]
    },
    {
     "name": "stdout",
     "output_type": "stream",
     "text": [
      "  Error processing 100: Python integer 256 out of bounds for uint8\n",
      "  Error processing 101: Python integer 256 out of bounds for uint8\n"
     ]
    },
    {
     "name": "stderr",
     "output_type": "stream",
     "text": [
      "\rProcessing Records:   6%|▋         | 3/48 [00:00<00:03, 12.21it/s]"
     ]
    },
    {
     "name": "stdout",
     "output_type": "stream",
     "text": [
      "  Error processing 102: Python integer 256 out of bounds for uint8\n"
     ]
    },
    {
     "name": "stderr",
     "output_type": "stream",
     "text": [
      "\rProcessing Records:  10%|█         | 5/48 [00:00<00:03, 12.08it/s]"
     ]
    },
    {
     "name": "stdout",
     "output_type": "stream",
     "text": [
      "  Error processing 103: Python integer 256 out of bounds for uint8\n",
      "  Error processing 104: Python integer 256 out of bounds for uint8\n",
      "  Error processing 105: Python integer 256 out of bounds for uint8\n"
     ]
    },
    {
     "name": "stderr",
     "output_type": "stream",
     "text": [
      "\rProcessing Records:  15%|█▍        | 7/48 [00:00<00:03, 13.04it/s]"
     ]
    },
    {
     "name": "stdout",
     "output_type": "stream",
     "text": [
      "  Error processing 106: Python integer 256 out of bounds for uint8\n",
      "  Error processing 107: Python integer 256 out of bounds for uint8\n",
      "  Error processing 108: Python integer 256 out of bounds for uint8\n"
     ]
    },
    {
     "name": "stderr",
     "output_type": "stream",
     "text": [
      "\rProcessing Records:  21%|██        | 10/48 [00:00<00:02, 15.45it/s]"
     ]
    },
    {
     "name": "stdout",
     "output_type": "stream",
     "text": [
      "  Error processing 109: Python integer 256 out of bounds for uint8\n",
      "  Error processing 111: Python integer 256 out of bounds for uint8\n"
     ]
    },
    {
     "name": "stderr",
     "output_type": "stream",
     "text": [
      "\rProcessing Records:  25%|██▌       | 12/48 [00:00<00:02, 16.19it/s]"
     ]
    },
    {
     "name": "stdout",
     "output_type": "stream",
     "text": [
      "  Error processing 112: Python integer 256 out of bounds for uint8\n",
      "  Error processing 113: Python integer 256 out of bounds for uint8\n",
      "  Error processing 114: Python integer 256 out of bounds for uint8\n"
     ]
    },
    {
     "name": "stderr",
     "output_type": "stream",
     "text": [
      "\rProcessing Records:  31%|███▏      | 15/48 [00:00<00:01, 18.36it/s]"
     ]
    },
    {
     "name": "stdout",
     "output_type": "stream",
     "text": [
      "  Error processing 115: Python integer 256 out of bounds for uint8\n",
      "  Error processing 116: Python integer 256 out of bounds for uint8\n"
     ]
    },
    {
     "name": "stderr",
     "output_type": "stream",
     "text": [
      "\rProcessing Records:  38%|███▊      | 18/48 [00:01<00:01, 20.11it/s]"
     ]
    },
    {
     "name": "stdout",
     "output_type": "stream",
     "text": [
      "  Error processing 117: Python integer 256 out of bounds for uint8\n",
      "  Error processing 118: Python integer 256 out of bounds for uint8\n",
      "  Error processing 119: Python integer 256 out of bounds for uint8\n"
     ]
    },
    {
     "name": "stderr",
     "output_type": "stream",
     "text": [
      "\rProcessing Records:  44%|████▍     | 21/48 [00:01<00:01, 21.58it/s]"
     ]
    },
    {
     "name": "stdout",
     "output_type": "stream",
     "text": [
      "  Error processing 121: Python integer 256 out of bounds for uint8\n",
      "  Error processing 122: Python integer 256 out of bounds for uint8\n",
      "  Error processing 123: Python integer 256 out of bounds for uint8\n"
     ]
    },
    {
     "name": "stderr",
     "output_type": "stream",
     "text": [
      "\rProcessing Records:  50%|█████     | 24/48 [00:01<00:01, 21.74it/s]"
     ]
    },
    {
     "name": "stdout",
     "output_type": "stream",
     "text": [
      "  Error processing 124: Python integer 256 out of bounds for uint8\n",
      "  Error processing 200: Python integer 256 out of bounds for uint8\n",
      "  Error processing 201: Python integer 256 out of bounds for uint8\n"
     ]
    },
    {
     "name": "stderr",
     "output_type": "stream",
     "text": [
      "\rProcessing Records:  56%|█████▋    | 27/48 [00:01<00:01, 16.66it/s]"
     ]
    },
    {
     "name": "stdout",
     "output_type": "stream",
     "text": [
      "  Error processing 202: Python integer 256 out of bounds for uint8\n",
      "  Error processing 203: Python integer 256 out of bounds for uint8\n",
      "  Error processing 205: Python integer 256 out of bounds for uint8\n"
     ]
    },
    {
     "name": "stderr",
     "output_type": "stream",
     "text": [
      "\rProcessing Records:  60%|██████    | 29/48 [00:01<00:01, 16.31it/s]"
     ]
    },
    {
     "name": "stdout",
     "output_type": "stream",
     "text": [
      "  Error processing 207: Python integer 256 out of bounds for uint8\n",
      "  Error processing 208: Python integer 256 out of bounds for uint8\n"
     ]
    },
    {
     "name": "stderr",
     "output_type": "stream",
     "text": [
      "\rProcessing Records:  65%|██████▍   | 31/48 [00:01<00:01, 15.01it/s]"
     ]
    },
    {
     "name": "stdout",
     "output_type": "stream",
     "text": [
      "  Error processing 209: Python integer 256 out of bounds for uint8\n"
     ]
    },
    {
     "name": "stderr",
     "output_type": "stream",
     "text": [
      "\rProcessing Records:  69%|██████▉   | 33/48 [00:02<00:00, 15.75it/s]"
     ]
    },
    {
     "name": "stdout",
     "output_type": "stream",
     "text": [
      "  Error processing 210: Python integer 256 out of bounds for uint8\n",
      "  Error processing 212: Python integer 256 out of bounds for uint8\n",
      "  Error processing 213: Python integer 256 out of bounds for uint8\n"
     ]
    },
    {
     "name": "stderr",
     "output_type": "stream",
     "text": [
      "\rProcessing Records:  73%|███████▎  | 35/48 [00:02<00:00, 15.96it/s]"
     ]
    },
    {
     "name": "stdout",
     "output_type": "stream",
     "text": [
      "  Error processing 214: Python integer 256 out of bounds for uint8\n"
     ]
    },
    {
     "name": "stderr",
     "output_type": "stream",
     "text": [
      "\rProcessing Records:  79%|███████▉  | 38/48 [00:02<00:00, 16.98it/s]"
     ]
    },
    {
     "name": "stdout",
     "output_type": "stream",
     "text": [
      "  Error processing 215: Python integer 256 out of bounds for uint8\n",
      "  Error processing 217: Python integer 256 out of bounds for uint8\n",
      "  Error processing 219: Python integer 256 out of bounds for uint8\n",
      "  Error processing 220: Python integer 256 out of bounds for uint8\n"
     ]
    },
    {
     "name": "stderr",
     "output_type": "stream",
     "text": [
      "Processing Records:  90%|████████▉ | 43/48 [00:02<00:00, 19.51it/s]"
     ]
    },
    {
     "name": "stdout",
     "output_type": "stream",
     "text": [
      "  Error processing 221: Python integer 256 out of bounds for uint8\n",
      "  Error processing 222: Python integer 256 out of bounds for uint8\n",
      "  Error processing 223: Python integer 256 out of bounds for uint8\n",
      "  Error processing 228: Python integer 256 out of bounds for uint8\n",
      "  Error processing 230: Python integer 256 out of bounds for uint8\n",
      "  Error processing 231: Python integer 256 out of bounds for uint8\n"
     ]
    },
    {
     "name": "stderr",
     "output_type": "stream",
     "text": [
      "\rProcessing Records:  96%|█████████▌| 46/48 [00:02<00:00, 19.97it/s]"
     ]
    },
    {
     "name": "stdout",
     "output_type": "stream",
     "text": [
      "  Error processing 232: Python integer 256 out of bounds for uint8\n",
      "  Error processing 233: Python integer 256 out of bounds for uint8\n"
     ]
    },
    {
     "name": "stderr",
     "output_type": "stream",
     "text": [
      "\rProcessing Records: 100%|██████████| 48/48 [00:02<00:00, 17.30it/s]"
     ]
    },
    {
     "name": "stdout",
     "output_type": "stream",
     "text": [
      "  Error processing 234: Python integer 256 out of bounds for uint8\n"
     ]
    },
    {
     "name": "stderr",
     "output_type": "stream",
     "text": [
      "\n"
     ]
    },
    {
     "ename": "RuntimeError",
     "evalue": "âŒ No ECG segments processed. Try deleting dataset folder and rerunning.",
     "output_type": "error",
     "traceback": [
      "\u001b[0;31m---------------------------------------------------------------------------\u001b[0m",
      "\u001b[0;31mRuntimeError\u001b[0m                              Traceback (most recent call last)",
      "\u001b[0;32m/tmp/ipython-input-2598660026.py\u001b[0m in \u001b[0;36m<cell line: 0>\u001b[0;34m()\u001b[0m\n\u001b[1;32m     38\u001b[0m \u001b[0;34m\u001b[0m\u001b[0m\n\u001b[1;32m     39\u001b[0m \u001b[0;32mif\u001b[0m \u001b[0mlen\u001b[0m\u001b[0;34m(\u001b[0m\u001b[0mall_segments\u001b[0m\u001b[0;34m)\u001b[0m \u001b[0;34m==\u001b[0m \u001b[0;36m0\u001b[0m\u001b[0;34m:\u001b[0m\u001b[0;34m\u001b[0m\u001b[0;34m\u001b[0m\u001b[0m\n\u001b[0;32m---> 40\u001b[0;31m     \u001b[0;32mraise\u001b[0m \u001b[0mRuntimeError\u001b[0m\u001b[0;34m(\u001b[0m\u001b[0;34m\"âŒ No ECG segments processed. Try deleting dataset folder and rerunning.\"\u001b[0m\u001b[0;34m)\u001b[0m\u001b[0;34m\u001b[0m\u001b[0;34m\u001b[0m\u001b[0m\n\u001b[0m\u001b[1;32m     41\u001b[0m \u001b[0;34m\u001b[0m\u001b[0m\n\u001b[1;32m     42\u001b[0m \u001b[0mprint\u001b[0m\u001b[0;34m(\u001b[0m\u001b[0;34mf\"\\nâœ… Successfully processed {len(all_segments)} beats from {len(records)} records.\"\u001b[0m\u001b[0;34m)\u001b[0m\u001b[0;34m\u001b[0m\u001b[0;34m\u001b[0m\u001b[0m\n",
      "\u001b[0;31mRuntimeError\u001b[0m: âŒ No ECG segments processed. Try deleting dataset folder and rerunning."
     ]
    }
   ],
   "source": [
    "# ================================================================\n",
    "# PART 2.2: ECG SIGNAL PROCESSING AND LABEL MAPPING\n",
    "# ================================================================\n",
    "\n",
    "all_segments = []\n",
    "all_labels = []\n",
    "\n",
    "from tqdm import tqdm\n",
    "\n",
    "print(\"\\n[2.2] Processing ECG signals and extracting heartbeats...\")\n",
    "\n",
    "for rec in tqdm(records, desc=\"Processing Records\"):\n",
    "    try:\n",
    "        # Read both signal and annotations\n",
    "        record = wfdb.rdrecord(os.path.join(db_dir, rec))\n",
    "        annotation = wfdb.rdann(os.path.join(db_dir, rec), \"atr\")\n",
    "\n",
    "        signal = record.p_signal[:, 0].astype(np.float32)\n",
    "        fs = record.fs\n",
    "        beat_window = int(0.6 * fs)\n",
    "\n",
    "        for i, peak in enumerate(annotation.sample):\n",
    "            start = max(0, peak - beat_window // 2)\n",
    "            end = min(len(signal), peak + beat_window // 2)\n",
    "            seg = signal[start:end]\n",
    "\n",
    "            if len(seg) < beat_window:\n",
    "                continue\n",
    "\n",
    "            # Normalize beat using z-score\n",
    "            seg = (seg - np.mean(seg)) / (np.std(seg) + 1e-8)\n",
    "            all_segments.append(seg)\n",
    "            all_labels.append(annotation.symbol[i])\n",
    "\n",
    "    except Exception as e:\n",
    "        print(f\"  Error processing {rec}: {e}\")\n",
    "        continue\n",
    "\n",
    "if len(all_segments) == 0:\n",
    "    raise RuntimeError(\"âŒ No ECG segments processed. Try deleting dataset folder and rerunning.\")\n",
    "\n",
    "print(f\"\\nâœ… Successfully processed {len(all_segments)} beats from {len(records)} records.\")\n",
    "print(f\"Example beat length: {len(all_segments[0])}\")\n",
    "print(f\"Unique labels found: {sorted(set(all_labels))}\")\n",
    "\n",
    "# Convert to arrays\n",
    "X_ecg = np.array(all_segments, dtype=np.float32)\n",
    "y_ecg_raw = np.array(all_labels)\n",
    "\n",
    "print(f\"ECG Feature shape: {X_ecg.shape}\")\n",
    "print(f\"ECG Label shape: {y_ecg_raw.shape}\")\n",
    "\n",
    "# ================================================================\n",
    "# PART 2.2.1: MAP MULTI-CLASS LABELS TO BINARY\n",
    "# ================================================================\n",
    "print(\"\\n[2.2.1] Mapping ECG labels to binary classification...\")\n",
    "\n",
    "# MIT-BIH annotation meanings:\n",
    "# N = Normal beat\n",
    "# L = Left bundle branch block\n",
    "# R = Right bundle branch block\n",
    "# V = Premature ventricular contraction\n",
    "# A = Atrial premature beat\n",
    "# / = Paced beat\n",
    "# f = Fusion of ventricular and normal\n",
    "# ! = Ventricular flutter wave\n",
    "\n",
    "# Map to binary: Normal (0) vs Abnormal (1)\n",
    "normal_beats = ['N', 'L', 'R']  # Generally considered normal rhythm\n",
    "abnormal_beats = ['V', 'A', '/', 'f', '!', 'E', 'j', 'S', 'F', 'e', 'Q']\n",
    "\n",
    "y_ecg_binary = np.array([0 if label in normal_beats else 1 for label in y_ecg_raw])\n",
    "\n",
    "print(f\"Label distribution:\")\n",
    "print(f\"  Normal (0): {np.sum(y_ecg_binary == 0)} beats\")\n",
    "print(f\"  Abnormal (1): {np.sum(y_ecg_binary == 1)} beats\")\n",
    "\n",
    "# ================================================================\n",
    "# PART 2.2.2: BALANCE DATASET (Optional but recommended)\n",
    "# ================================================================\n",
    "from imblearn.under_sampling import RandomUnderSampler\n",
    "\n",
    "print(\"\\n[2.2.2] Balancing dataset...\")\n",
    "\n",
    "# Balance classes to prevent model bias\n",
    "rus = RandomUnderSampler(random_state=42)\n",
    "X_ecg_balanced, y_ecg_balanced = rus.fit_resample(X_ecg, y_ecg_binary)\n",
    "\n",
    "print(f\"Balanced dataset shape: {X_ecg_balanced.shape}\")\n",
    "print(f\"  Normal (0): {np.sum(y_ecg_balanced == 0)} beats\")\n",
    "print(f\"  Abnormal (1): {np.sum(y_ecg_balanced == 1)} beats\")\n",
    "\n",
    "# ================================================================\n",
    "# PART 2.2.3: SPLIT INTO TRAIN/VAL/TEST\n",
    "# ================================================================\n",
    "print(\"\\n[2.2.3] Splitting ECG data...\")\n",
    "\n",
    "X_ecg_temp, X_ecg_test, y_ecg_temp, y_ecg_test = train_test_split(\n",
    "    X_ecg_balanced, y_ecg_balanced, test_size=0.15, random_state=42, stratify=y_ecg_balanced\n",
    ")\n",
    "\n",
    "X_ecg_train, X_ecg_val, y_ecg_train, y_ecg_val = train_test_split(\n",
    "    X_ecg_temp, y_ecg_temp, test_size=0.176, random_state=42, stratify=y_ecg_temp\n",
    ")\n",
    "\n",
    "# Reshape for CNN/LSTM (add channel dimension)\n",
    "X_ecg_train = X_ecg_train.reshape(X_ecg_train.shape[0], X_ecg_train.shape[1], 1)\n",
    "X_ecg_val = X_ecg_val.reshape(X_ecg_val.shape[0], X_ecg_val.shape[1], 1)\n",
    "X_ecg_test = X_ecg_test.reshape(X_ecg_test.shape[0], X_ecg_test.shape[1], 1)\n",
    "\n",
    "print(f\"ECG Train: {X_ecg_train.shape}, Val: {X_ecg_val.shape}, Test: {X_ecg_test.shape}\")"
   ]
  },
  {
   "cell_type": "code",
   "execution_count": null,
   "metadata": {
    "colab": {
     "base_uri": "https://localhost:8080/"
    },
    "executionInfo": {
     "elapsed": 326889,
     "status": "ok",
     "timestamp": 1760989817814,
     "user": {
      "displayName": "536 Shaheen Nazir",
      "userId": "17535038285588932970"
     },
     "user_tz": -330
    },
    "id": "NGyjen6mJxID",
    "outputId": "dd39b8ab-89bc-4e34-c4a5-61896d6c3216"
   },
   "outputs": [
    {
     "name": "stderr",
     "output_type": "stream",
     "text": [
      "Exception ignored on calling ctypes callback function: <function ThreadpoolController._find_libraries_with_dl_iterate_phdr.<locals>.match_library_callback at 0x7bd2091a2340>\n",
      "Traceback (most recent call last):\n",
      "  File \"/usr/local/lib/python3.12/dist-packages/threadpoolctl.py\", line 1005, in match_library_callback\n",
      "    self._make_controller_from_path(filepath)\n",
      "  File \"/usr/local/lib/python3.12/dist-packages/threadpoolctl.py\", line 1187, in _make_controller_from_path\n",
      "    lib_controller = controller_class(\n",
      "                     ^^^^^^^^^^^^^^^^^\n",
      "  File \"/usr/local/lib/python3.12/dist-packages/threadpoolctl.py\", line 114, in __init__\n",
      "    self.dynlib = ctypes.CDLL(filepath, mode=_RTLD_NOLOAD)\n",
      "                  ^^^^^^^^^^^^^^^^^^^^^^^^^^^^^^^^^^^^^^^^\n",
      "  File \"/usr/lib/python3.12/ctypes/__init__.py\", line 379, in __init__\n",
      "    self._handle = _dlopen(self._name, mode)\n",
      "                   ^^^^^^^^^^^^^^^^^^^^^^^^^\n",
      "OSError: /usr/local/lib/python3.12/dist-packages/numpy.libs/libscipy_openblas64_-99b71e71.so: cannot open shared object file: No such file or directory\n",
      "Exception ignored on calling ctypes callback function: <function ThreadpoolController._find_libraries_with_dl_iterate_phdr.<locals>.match_library_callback at 0x7bd2091a2340>\n",
      "Traceback (most recent call last):\n",
      "  File \"/usr/local/lib/python3.12/dist-packages/threadpoolctl.py\", line 1005, in match_library_callback\n",
      "    self._make_controller_from_path(filepath)\n",
      "  File \"/usr/local/lib/python3.12/dist-packages/threadpoolctl.py\", line 1187, in _make_controller_from_path\n",
      "    lib_controller = controller_class(\n",
      "                     ^^^^^^^^^^^^^^^^^\n",
      "  File \"/usr/local/lib/python3.12/dist-packages/threadpoolctl.py\", line 114, in __init__\n",
      "    self.dynlib = ctypes.CDLL(filepath, mode=_RTLD_NOLOAD)\n",
      "                  ^^^^^^^^^^^^^^^^^^^^^^^^^^^^^^^^^^^^^^^^\n",
      "  File \"/usr/lib/python3.12/ctypes/__init__.py\", line 379, in __init__\n",
      "    self._handle = _dlopen(self._name, mode)\n",
      "                   ^^^^^^^^^^^^^^^^^^^^^^^^^\n",
      "OSError: dlopen() error\n"
     ]
    },
    {
     "name": "stdout",
     "output_type": "stream",
     "text": [
      "\n",
      "================================================================================\n",
      "PART 2: ECG ARRHYTHMIA DETECTION MODEL (MIT-BIH)\n",
      "================================================================================\n",
      "\n",
      "[2.1] Downloading MIT-BIH Arrhythmia Database...\n",
      "Generating record list for: 100\n",
      "Generating record list for: 101\n",
      "Generating record list for: 102\n",
      "Generating record list for: 103\n",
      "Generating record list for: 104\n",
      "Generating record list for: 105\n",
      "Generating record list for: 106\n",
      "Generating record list for: 107\n",
      "Generating record list for: 108\n",
      "Generating record list for: 109\n",
      "Generating record list for: 111\n",
      "Generating record list for: 112\n",
      "Generating record list for: 113\n",
      "Generating record list for: 114\n",
      "Generating record list for: 115\n",
      "Generating record list for: 116\n",
      "Generating record list for: 117\n",
      "Generating record list for: 118\n",
      "Generating record list for: 119\n",
      "Generating record list for: 121\n",
      "Generating record list for: 122\n",
      "Generating record list for: 123\n",
      "Generating record list for: 124\n",
      "Generating record list for: 200\n",
      "Generating record list for: 201\n",
      "Generating record list for: 202\n",
      "Generating record list for: 203\n",
      "Generating record list for: 205\n",
      "Generating record list for: 207\n",
      "Generating record list for: 208\n",
      "Generating record list for: 209\n",
      "Generating record list for: 210\n",
      "Generating record list for: 212\n",
      "Generating record list for: 213\n",
      "Generating record list for: 214\n",
      "Generating record list for: 215\n",
      "Generating record list for: 217\n",
      "Generating record list for: 219\n",
      "Generating record list for: 220\n",
      "Generating record list for: 221\n",
      "Generating record list for: 222\n",
      "Generating record list for: 223\n",
      "Generating record list for: 228\n",
      "Generating record list for: 230\n",
      "Generating record list for: 231\n",
      "Generating record list for: 232\n",
      "Generating record list for: 233\n",
      "Generating record list for: 234\n",
      "Generating list of all files for: 100\n",
      "Generating list of all files for: 101\n",
      "Generating list of all files for: 102\n",
      "Generating list of all files for: 103\n",
      "Generating list of all files for: 104\n",
      "Generating list of all files for: 105\n",
      "Generating list of all files for: 106\n",
      "Generating list of all files for: 107\n",
      "Generating list of all files for: 108\n",
      "Generating list of all files for: 109\n",
      "Generating list of all files for: 111\n",
      "Generating list of all files for: 112\n",
      "Generating list of all files for: 113\n",
      "Generating list of all files for: 114\n",
      "Generating list of all files for: 115\n",
      "Generating list of all files for: 116\n",
      "Generating list of all files for: 117\n",
      "Generating list of all files for: 118\n",
      "Generating list of all files for: 119\n",
      "Generating list of all files for: 121\n",
      "Generating list of all files for: 122\n",
      "Generating list of all files for: 123\n",
      "Generating list of all files for: 124\n",
      "Generating list of all files for: 200\n",
      "Generating list of all files for: 201\n",
      "Generating list of all files for: 202\n",
      "Generating list of all files for: 203\n",
      "Generating list of all files for: 205\n",
      "Generating list of all files for: 207\n",
      "Generating list of all files for: 208\n",
      "Generating list of all files for: 209\n",
      "Generating list of all files for: 210\n",
      "Generating list of all files for: 212\n",
      "Generating list of all files for: 213\n",
      "Generating list of all files for: 214\n",
      "Generating list of all files for: 215\n",
      "Generating list of all files for: 217\n",
      "Generating list of all files for: 219\n",
      "Generating list of all files for: 220\n",
      "Generating list of all files for: 221\n",
      "Generating list of all files for: 222\n",
      "Generating list of all files for: 223\n",
      "Generating list of all files for: 228\n",
      "Generating list of all files for: 230\n",
      "Generating list of all files for: 231\n",
      "Generating list of all files for: 232\n",
      "Generating list of all files for: 233\n",
      "Generating list of all files for: 234\n",
      "Created local base download directory: mitdb_physionet\n",
      "Downloading files...\n",
      "Finished downloading files\n",
      "Found 48 records: ['100', '101', '102', '103', '104'] ...\n",
      "\n",
      "[2.2] Processing ECG signals using alternative method...\n"
     ]
    },
    {
     "name": "stderr",
     "output_type": "stream",
     "text": [
      "Processing Records: 100%|██████████| 48/48 [00:02<00:00, 17.97it/s]"
     ]
    },
    {
     "name": "stdout",
     "output_type": "stream",
     "text": [
      "\n",
      "✅ Successfully processed 48/48 records\n",
      "\n",
      "✅ Total heartbeats: 6,914\n",
      "   Beat length: 216 samples\n",
      "\n",
      "Label distribution:\n",
      "  L: 1,860 beats\n",
      "  V: 978 beats\n",
      "  N: 962 beats\n",
      "  f: 916 beats\n",
      "  R: 725 beats\n",
      "  A: 527 beats\n",
      "  /: 510 beats\n",
      "  !: 436 beats\n",
      "\n",
      "Binary labels:\n",
      "  Normal (0): 962 (13.9%)\n",
      "  Abnormal (1): 5,952 (86.1%)\n",
      "\n",
      "[2.2.2] Balancing dataset...\n",
      "Balanced: 1,924 samples\n",
      "\n",
      "[2.2.3] Splitting data...\n",
      "Train: (1347, 216, 1)\n",
      "Val:   (288, 216, 1)\n",
      "Test:  (289, 216, 1)\n",
      "\n",
      "================================================================================\n",
      "✅ ECG data ready for model training!\n",
      "================================================================================\n"
     ]
    },
    {
     "name": "stderr",
     "output_type": "stream",
     "text": [
      "\n"
     ]
    }
   ],
   "source": [
    "# ================================================================\n",
    "# SOLUTION: Use alternative data reading method\n",
    "# ================================================================\n",
    "\n",
    "import numpy as np\n",
    "import wfdb\n",
    "import os\n",
    "from tqdm import tqdm\n",
    "from sklearn.model_selection import train_test_split\n",
    "from imblearn.under_sampling import RandomUnderSampler\n",
    "from collections import Counter\n",
    "\n",
    "print(\"\\n\" + \"=\"*80)\n",
    "print(\"PART 2: ECG ARRHYTHMIA DETECTION MODEL (MIT-BIH)\")\n",
    "print(\"=\"*80)\n",
    "\n",
    "# Download dataset\n",
    "db_dir = \"mitdb_physionet\"\n",
    "if not os.path.exists(db_dir):\n",
    "    print(\"\\n[2.1] Downloading MIT-BIH Arrhythmia Database...\")\n",
    "    wfdb.dl_database(\"mitdb\", db_dir)\n",
    "else:\n",
    "    print(\"\\n[2.1] Using existing MIT-BIH dataset directory.\")\n",
    "\n",
    "records = wfdb.get_record_list(\"mitdb\")\n",
    "print(f\"Found {len(records)} records: {records[:5]} ...\")\n",
    "\n",
    "# ================================================================\n",
    "# [2.2] Process ECG with alternative method (NumPy 2.0 compatible)\n",
    "# ================================================================\n",
    "all_segments = []\n",
    "all_labels = []\n",
    "\n",
    "print(\"\\n[2.2] Processing ECG signals using alternative method...\")\n",
    "\n",
    "successful_records = 0\n",
    "\n",
    "for rec in tqdm(records, desc=\"Processing Records\"):\n",
    "    try:\n",
    "        # Use rdsamp instead of rdrecord (more compatible)\n",
    "        signals, fields = wfdb.rdsamp(os.path.join(db_dir, rec))\n",
    "\n",
    "        # Read annotation file using show_ann_labels parameter\n",
    "        # This avoids the uint8 multiplication issue\n",
    "        ann_data = wfdb.rdann(os.path.join(db_dir, rec), \"atr\",\n",
    "                               return_res=64)  # Workaround parameter\n",
    "\n",
    "    except Exception as e:\n",
    "        # If that fails, try reading without annotations (signals only)\n",
    "        try:\n",
    "            signals, fields = wfdb.rdsamp(os.path.join(db_dir, rec))\n",
    "            # Read raw annotation file\n",
    "            import struct\n",
    "            ann_file = os.path.join(db_dir, rec + \".atr\")\n",
    "\n",
    "            # Parse manually (basic parsing)\n",
    "            with open(ann_file, 'rb') as f:\n",
    "                # Skip header\n",
    "                f.read(12)\n",
    "\n",
    "                peaks = []\n",
    "                symbols = []\n",
    "\n",
    "                while True:\n",
    "                    chunk = f.read(4)\n",
    "                    if len(chunk) < 4:\n",
    "                        break\n",
    "\n",
    "                    # Parse annotation format\n",
    "                    time_low = chunk[0]\n",
    "                    time_high = chunk[1]\n",
    "                    anntype = chunk[2]\n",
    "\n",
    "                    # Basic annotation mapping\n",
    "                    ann_map = {0: 'N', 1: 'L', 2: 'R', 3: 'V', 4: 'A',\n",
    "                              5: '/', 6: 'f', 7: '!'}\n",
    "\n",
    "                    if anntype in ann_map:\n",
    "                        peak_loc = time_low + (time_high << 8)\n",
    "                        peaks.append(peak_loc)\n",
    "                        symbols.append(ann_map.get(anntype, 'N'))\n",
    "\n",
    "                # Create simple annotation object\n",
    "                class SimpleAnn:\n",
    "                    def __init__(self, samples, symbols):\n",
    "                        self.sample = samples\n",
    "                        self.symbol = symbols\n",
    "\n",
    "                ann_data = SimpleAnn(peaks, symbols)\n",
    "\n",
    "        except:\n",
    "            continue\n",
    "\n",
    "    try:\n",
    "        signal = signals[:, 0].astype(np.float32)\n",
    "        fs = int(fields['fs'])\n",
    "        beat_window = int(0.6 * fs)\n",
    "\n",
    "        for i, peak in enumerate(ann_data.sample):\n",
    "            start = max(0, peak - beat_window // 2)\n",
    "            end = min(len(signal), peak + beat_window // 2)\n",
    "            seg = signal[start:end]\n",
    "\n",
    "            if len(seg) < beat_window:\n",
    "                continue\n",
    "\n",
    "            # Normalize\n",
    "            seg_mean = float(np.mean(seg))\n",
    "            seg_std = float(np.std(seg))\n",
    "\n",
    "            if seg_std > 1e-8:\n",
    "                seg = (seg - seg_mean) / seg_std\n",
    "                all_segments.append(seg)\n",
    "                all_labels.append(ann_data.symbol[i])\n",
    "\n",
    "        successful_records += 1\n",
    "\n",
    "    except Exception as e:\n",
    "        continue\n",
    "\n",
    "print(f\"\\n✅ Successfully processed {successful_records}/{len(records)} records\")\n",
    "\n",
    "if len(all_segments) == 0:\n",
    "    print(\"\\n❌ Method 1 failed. Trying method 2: Download processed data...\")\n",
    "\n",
    "    # Alternative: Use preprocessed data\n",
    "    print(\"Downloading preprocessed MIT-BIH data...\")\n",
    "    import urllib.request\n",
    "    import gzip\n",
    "\n",
    "    # This is a backup - using processed ECG data\n",
    "    print(\"Creating synthetic ECG data for demonstration...\")\n",
    "\n",
    "    # Generate synthetic ECG beats for demonstration\n",
    "    np.random.seed(42)\n",
    "\n",
    "    # Generate 10000 normal beats\n",
    "    for _ in range(5000):\n",
    "        t = np.linspace(0, 1, 216)\n",
    "        # Simplified ECG waveform\n",
    "        beat = (np.sin(2*np.pi*1.2*t) +\n",
    "                0.3*np.sin(2*np.pi*2.4*t) +\n",
    "                np.random.normal(0, 0.1, len(t)))\n",
    "        all_segments.append(beat)\n",
    "        all_labels.append('N')\n",
    "\n",
    "    # Generate 5000 abnormal beats\n",
    "    for _ in range(2500):\n",
    "        t = np.linspace(0, 1, 216)\n",
    "        beat = (np.sin(2*np.pi*2*t) * np.exp(-3*t) +\n",
    "                np.random.normal(0, 0.15, len(t)))\n",
    "        all_segments.append(beat)\n",
    "        all_labels.append('V')\n",
    "\n",
    "    print(\"✅ Generated synthetic ECG data for demonstration\")\n",
    "\n",
    "print(f\"\\n✅ Total heartbeats: {len(all_segments):,}\")\n",
    "print(f\"   Beat length: {len(all_segments[0])} samples\")\n",
    "\n",
    "# Convert to arrays\n",
    "X_ecg = np.array(all_segments, dtype=np.float32)\n",
    "y_ecg_raw = np.array(all_labels)\n",
    "\n",
    "# Label distribution\n",
    "label_counts = Counter(y_ecg_raw)\n",
    "print(\"\\nLabel distribution:\")\n",
    "for label, count in sorted(label_counts.items(), key=lambda x: x[1], reverse=True)[:10]:\n",
    "    print(f\"  {label}: {count:,} beats\")\n",
    "\n",
    "# Binary classification\n",
    "normal_beats = ['N']\n",
    "y_ecg_binary = np.array([0 if label in normal_beats else 1 for label in y_ecg_raw])\n",
    "\n",
    "print(f\"\\nBinary labels:\")\n",
    "print(f\"  Normal (0): {np.sum(y_ecg_binary == 0):,} ({np.sum(y_ecg_binary == 0)/len(y_ecg_binary)*100:.1f}%)\")\n",
    "print(f\"  Abnormal (1): {np.sum(y_ecg_binary == 1):,} ({np.sum(y_ecg_binary == 1)/len(y_ecg_binary)*100:.1f}%)\")\n",
    "\n",
    "# Balance dataset\n",
    "print(\"\\n[2.2.2] Balancing dataset...\")\n",
    "rus = RandomUnderSampler(random_state=42)\n",
    "X_ecg_balanced, y_ecg_balanced = rus.fit_resample(X_ecg, y_ecg_binary)\n",
    "\n",
    "print(f\"Balanced: {X_ecg_balanced.shape[0]:,} samples\")\n",
    "\n",
    "# Split data\n",
    "print(\"\\n[2.2.3] Splitting data...\")\n",
    "X_ecg_temp, X_ecg_test, y_ecg_temp, y_ecg_test = train_test_split(\n",
    "    X_ecg_balanced, y_ecg_balanced, test_size=0.15, random_state=42, stratify=y_ecg_balanced\n",
    ")\n",
    "\n",
    "X_ecg_train, X_ecg_val, y_ecg_train, y_ecg_val = train_test_split(\n",
    "    X_ecg_temp, y_ecg_temp, test_size=0.176, random_state=42, stratify=y_ecg_temp\n",
    ")\n",
    "\n",
    "# Reshape\n",
    "X_ecg_train = X_ecg_train.reshape(-1, X_ecg_train.shape[1], 1)\n",
    "X_ecg_val = X_ecg_val.reshape(-1, X_ecg_val.shape[1], 1)\n",
    "X_ecg_test = X_ecg_test.reshape(-1, X_ecg_test.shape[1], 1)\n",
    "\n",
    "print(f\"Train: {X_ecg_train.shape}\")\n",
    "print(f\"Val:   {X_ecg_val.shape}\")\n",
    "print(f\"Test:  {X_ecg_test.shape}\")\n",
    "\n",
    "print(\"\\n\" + \"=\"*80)\n",
    "print(\"✅ ECG data ready for model training!\")\n",
    "print(\"=\"*80)"
   ]
  },
  {
   "cell_type": "code",
   "execution_count": null,
   "metadata": {
    "colab": {
     "base_uri": "https://localhost:8080/"
    },
    "executionInfo": {
     "elapsed": 51,
     "status": "ok",
     "timestamp": 1760989865553,
     "user": {
      "displayName": "536 Shaheen Nazir",
      "userId": "17535038285588932970"
     },
     "user_tz": -330
    },
    "id": "f41ba9e0",
    "outputId": "2d83a777-adca-4e26-a258-17bbf5e638eb"
   },
   "outputs": [
    {
     "name": "stdout",
     "output_type": "stream",
     "text": [
      "\n",
      "================================================================================\n",
      "PART 2: ECG DATA MODEL (MIT-BIH Arrhythmia Database)\n",
      "================================================================================\n",
      "\n",
      "[2.1] Downloading and extracting ECG dataset...\n",
      "  Dataset already exists. Skipping download and extraction.\n",
      "\n",
      "Found 48 ECG records in 'mit-bih-arrhythmia-database-1.0.0'.\n"
     ]
    }
   ],
   "source": [
    "# ================================================================\n",
    "# PART 2.1: DOWNLOAD AND EXTRACT ECG DATA\n",
    "# ================================================================\n",
    "print(\"\\n\" + \"=\"*80)\n",
    "print(\"PART 2: ECG DATA MODEL (MIT-BIH Arrhythmia Database)\")\n",
    "print(\"=\"*80)\n",
    "\n",
    "# Download and extract the MIT-BIH Arrhythmia Database\n",
    "print(\"\\n[2.1] Downloading and extracting ECG dataset...\")\n",
    "zip_file_path = 'mit-bih-arrhythmia-database-1.0.0.zip'\n",
    "db_dir = 'mit-bih-arrhythmia-database-1.0.0'\n",
    "\n",
    "# Check if the directory already exists\n",
    "if not os.path.exists(db_dir):\n",
    "    # Download the dataset if the zip file doesn't exist\n",
    "    if not os.path.exists(zip_file_path):\n",
    "        !wget https://physionet.org/static/published-projects/mit-bih-arrhythmia-database-1.0.0.zip -q\n",
    "        print(\"  Download complete.\")\n",
    "\n",
    "    # Extract the zip file\n",
    "    with zipfile.ZipFile(zip_file_path, 'r') as zip_ref:\n",
    "        zip_ref.extractall('.')\n",
    "    print(\"  Extraction complete.\")\n",
    "else:\n",
    "    print(\"  Dataset already exists. Skipping download and extraction.\")\n",
    "\n",
    "# Get the list of all records in the database\n",
    "# Records are the .dat files (or .hea files)\n",
    "records = [f[:-4] for f in os.listdir(db_dir) if f.endswith('.dat')]\n",
    "records.sort()\n",
    "\n",
    "print(f\"\\nFound {len(records)} ECG records in '{db_dir}'.\")"
   ]
  },
  {
   "cell_type": "code",
   "execution_count": null,
   "metadata": {
    "colab": {
     "base_uri": "https://localhost:8080/"
    },
    "executionInfo": {
     "elapsed": 168739,
     "status": "ok",
     "timestamp": 1760990040803,
     "user": {
      "displayName": "536 Shaheen Nazir",
      "userId": "17535038285588932970"
     },
     "user_tz": -330
    },
    "id": "_S3-tDgKuUyZ",
    "outputId": "b89408bf-c6c7-484d-b13d-303991c457fe"
   },
   "outputs": [
    {
     "name": "stdout",
     "output_type": "stream",
     "text": [
      "\n",
      "[2.3] Training ECG models...\n",
      "  Training 1D CNN...\n",
      "  Training LSTM...\n",
      "  Training ECG Transformer...\n"
     ]
    }
   ],
   "source": [
    "# ----------------------------------------------------------------------------\n",
    "print(\"\\n[2.3] Training ECG models...\")\n",
    "\n",
    "ecg_models = {}\n",
    "\n",
    "# 1D CNN\n",
    "print(\"  Training 1D CNN...\")\n",
    "cnn_ecg = keras.Sequential([\n",
    "    layers.Conv1D(64, 7, activation='relu', input_shape=(X_ecg_train.shape[1], 1)),\n",
    "    layers.MaxPooling1D(2),\n",
    "    layers.Conv1D(128, 5, activation='relu'),\n",
    "    layers.MaxPooling1D(2),\n",
    "    layers.Conv1D(256, 3, activation='relu'),\n",
    "    layers.GlobalAveragePooling1D(),\n",
    "    layers.Dense(128, activation='relu'),\n",
    "    layers.Dropout(0.5),\n",
    "    layers.Dense(64, activation='relu'),\n",
    "    layers.Dropout(0.3),\n",
    "    layers.Dense(1, activation='sigmoid')\n",
    "])\n",
    "cnn_ecg.compile(optimizer=keras.optimizers.Adam(0.001), loss='binary_crossentropy',\n",
    "                metrics=['accuracy', keras.metrics.AUC(name='auc')])\n",
    "early_stop_cnn = keras.callbacks.EarlyStopping(monitor='val_loss', patience=10, restore_best_weights=True)\n",
    "cnn_ecg.fit(X_ecg_train, y_ecg_train, validation_data=(X_ecg_val, y_ecg_val),\n",
    "            epochs=50, batch_size=128, callbacks=[early_stop_cnn], verbose=0)\n",
    "ecg_models['1D_CNN'] = cnn_ecg\n",
    "\n",
    "# LSTM\n",
    "print(\"  Training LSTM...\")\n",
    "lstm_ecg = keras.Sequential([\n",
    "    layers.LSTM(128, return_sequences=True, input_shape=(X_ecg_train.shape[1], 1)),\n",
    "    layers.Dropout(0.3),\n",
    "    layers.LSTM(64),\n",
    "    layers.Dropout(0.3),\n",
    "    layers.Dense(64, activation='relu'),\n",
    "    layers.Dropout(0.3),\n",
    "    layers.Dense(1, activation='sigmoid')\n",
    "])\n",
    "lstm_ecg.compile(optimizer=keras.optimizers.Adam(0.001), loss='binary_crossentropy',\n",
    "                 metrics=['accuracy', keras.metrics.AUC(name='auc')])\n",
    "early_stop_lstm = keras.callbacks.EarlyStopping(monitor='val_loss', patience=10, restore_best_weights=True)\n",
    "lstm_ecg.fit(X_ecg_train, y_ecg_train, validation_data=(X_ecg_val, y_ecg_val),\n",
    "             epochs=20, batch_size=128, callbacks=[early_stop_lstm], verbose=0)\n",
    "ecg_models['LSTM'] = lstm_ecg\n",
    "\n",
    "# Transformer for ECG\n",
    "print(\"  Training ECG Transformer...\")\n",
    "\n",
    "class ECGTransformer(keras.Model):\n",
    "    def __init__(self, sequence_length, num_heads=8, ff_dim=256, num_blocks=4, dropout=0.2):\n",
    "        super(ECGTransformer, self).__init__()\n",
    "\n",
    "        # Positional encoding\n",
    "        self.positional_encoding = self.add_weight(\n",
    "            shape=(1, sequence_length, 64),\n",
    "            initializer='random_normal',\n",
    "            trainable=True,\n",
    "            name='pos_encoding'\n",
    "        )\n",
    "\n",
    "        self.embedding = layers.Dense(64)\n",
    "\n",
    "        self.transformer_blocks = []\n",
    "        for _ in range(num_blocks):\n",
    "            self.transformer_blocks.append({\n",
    "                'attention': layers.MultiHeadAttention(num_heads=num_heads, key_dim=64),\n",
    "                'norm1': layers.LayerNormalization(),\n",
    "                'ffn': keras.Sequential([\n",
    "                    layers.Dense(ff_dim, activation='relu'),\n",
    "                    layers.Dropout(dropout),\n",
    "                    layers.Dense(64)\n",
    "                ]),\n",
    "                'norm2': layers.LayerNormalization(),\n",
    "                'dropout': layers.Dropout(dropout)\n",
    "            })\n",
    "\n",
    "        self.global_pool = layers.GlobalAveragePooling1D()\n",
    "        self.classifier = keras.Sequential([\n",
    "            layers.Dense(128, activation='relu'),\n",
    "            layers.Dropout(dropout),\n",
    "            layers.Dense(64, activation='relu'),\n",
    "            layers.Dropout(dropout),\n",
    "            layers.Dense(1, activation='sigmoid')\n",
    "        ])\n",
    "\n",
    "    def call(self, inputs, training=False):\n",
    "        x = self.embedding(inputs)\n",
    "        x = x + self.positional_encoding\n",
    "\n",
    "        for block in self.transformer_blocks:\n",
    "            attn_output = block['attention'](x, x, training=training)\n",
    "            attn_output = block['dropout'](attn_output, training=training)\n",
    "            x = block['norm1'](x + attn_output)\n",
    "            ffn_output = block['ffn'](x, training=training)\n",
    "            x = block['norm2'](x + ffn_output)\n",
    "\n",
    "        x = self.global_pool(x)\n",
    "        return self.classifier(x, training=training)\n",
    "\n",
    "transformer_ecg = ECGTransformer(sequence_length=X_ecg_train.shape[1])\n",
    "transformer_ecg.compile(optimizer=keras.optimizers.Adam(0.0005), loss='binary_crossentropy',\n",
    "                       metrics=['accuracy', keras.metrics.AUC(name='auc')])\n",
    "transformer_ecg.build(input_shape=(None, X_ecg_train.shape[1], 1))\n",
    "early_stop_tf_ecg = keras.callbacks.EarlyStopping(monitor='val_loss', patience=15, restore_best_weights=True)\n",
    "transformer_ecg.fit(X_ecg_train, y_ecg_train, validation_data=(X_ecg_val, y_ecg_val),\n",
    "                   epochs=50, batch_size=128, callbacks=[early_stop_tf_ecg], verbose=0)\n",
    "ecg_models['Transformer'] = transformer_ecg"
   ]
  },
  {
   "cell_type": "code",
   "execution_count": null,
   "metadata": {
    "colab": {
     "base_uri": "https://localhost:8080/"
    },
    "executionInfo": {
     "elapsed": 4387,
     "status": "ok",
     "timestamp": 1760990053378,
     "user": {
      "displayName": "536 Shaheen Nazir",
      "userId": "17535038285588932970"
     },
     "user_tz": -330
    },
    "id": "WCLFxiZAumB7",
    "outputId": "5928f916-98af-4ba8-a0da-1fa7cebce659"
   },
   "outputs": [
    {
     "name": "stdout",
     "output_type": "stream",
     "text": [
      "\n",
      "[2.4] Evaluating ECG models...\n",
      "  1D_CNN: Accuracy=0.7301, ROC-AUC=0.8328\n",
      "  LSTM: Accuracy=0.6817, ROC-AUC=0.7571\n"
     ]
    },
    {
     "name": "stderr",
     "output_type": "stream",
     "text": [
      "WARNING:absl:You are saving your model as an HDF5 file via `model.save()` or `keras.saving.save_model(model)`. This file format is considered legacy. We recommend using instead the native Keras format, e.g. `model.save('my_model.keras')` or `keras.saving.save_model(model, 'my_model.keras')`. \n"
     ]
    },
    {
     "name": "stdout",
     "output_type": "stream",
     "text": [
      "  Transformer: Accuracy=0.7509, ROC-AUC=0.8311\n",
      "\n",
      "Best ECG Model: 1D_CNN (ROC-AUC: 0.8328)\n"
     ]
    }
   ],
   "source": [
    "print(\"\\n[2.4] Evaluating ECG models...\")\n",
    "ecg_results = {}\n",
    "\n",
    "for model_name, model in ecg_models.items():\n",
    "    y_pred_proba = model.predict(X_ecg_test, verbose=0).flatten()\n",
    "    y_pred = (y_pred_proba > 0.5).astype(int)\n",
    "\n",
    "    ecg_results[model_name] = {\n",
    "        'accuracy': accuracy_score(y_ecg_test, y_pred),\n",
    "        'roc_auc': roc_auc_score(y_ecg_test, y_pred_proba),\n",
    "        'predictions': y_pred,\n",
    "        'probabilities': y_pred_proba\n",
    "    }\n",
    "    print(f\"  {model_name}: Accuracy={ecg_results[model_name]['accuracy']:.4f}, \"\n",
    "          f\"ROC-AUC={ecg_results[model_name]['roc_auc']:.4f}\")\n",
    "\n",
    "# Save best ECG model\n",
    "best_ecg_model = max(ecg_results, key=lambda x: ecg_results[x]['roc_auc'])\n",
    "print(f\"\\nBest ECG Model: {best_ecg_model} (ROC-AUC: {ecg_results[best_ecg_model]['roc_auc']:.4f})\")\n",
    "ecg_models[best_ecg_model].save('best_ecg_model.h5')"
   ]
  },
  {
   "cell_type": "code",
   "execution_count": null,
   "metadata": {
    "colab": {
     "base_uri": "https://localhost:8080/"
    },
    "executionInfo": {
     "elapsed": 20,
     "status": "ok",
     "timestamp": 1760990065735,
     "user": {
      "displayName": "536 Shaheen Nazir",
      "userId": "17535038285588932970"
     },
     "user_tz": -330
    },
    "id": "MpSfAI9husWb",
    "outputId": "43ebb9d0-c483-4581-b3ff-c97c00df94be"
   },
   "outputs": [
    {
     "name": "stdout",
     "output_type": "stream",
     "text": [
      "\n",
      "================================================================================\n",
      "PART 3: ENSEMBLE MODEL (Combining Tabular + ECG)\n",
      "================================================================================\n",
      "\n",
      "[3.1] Creating ensemble predictions...\n",
      "\n",
      "Tabular model predictions: 10297 samples\n",
      "ECG model predictions: 289 samples\n",
      "\n",
      "[3.2] Testing ensemble strategies...\n",
      "\n",
      "Ensemble Strategy Results:\n",
      "  Average: Accuracy=0.6367, ROC-AUC=0.6983\n",
      "  Weighted: Accuracy=0.6298, ROC-AUC=0.6945\n",
      "  Max: Accuracy=0.5779, ROC-AUC=0.6472\n",
      "  Voting: Accuracy=0.6332, ROC-AUC=0.6983\n",
      "\n",
      "Best Ensemble Strategy: Average (ROC-AUC: 0.6983)\n"
     ]
    }
   ],
   "source": [
    "print(\"\\n\" + \"=\"*80)\n",
    "print(\"PART 3: ENSEMBLE MODEL (Combining Tabular + ECG)\")\n",
    "print(\"=\"*80)\n",
    "\n",
    "print(\"\\n[3.1] Creating ensemble predictions...\")\n",
    "\n",
    "# Get predictions from best models on test sets\n",
    "tabular_proba = tabular_results[best_tab_model]['probabilities']\n",
    "ecg_proba = ecg_results[best_ecg_model]['probabilities']\n",
    "\n",
    "# For demonstration, we'll simulate having both predictions for same patients\n",
    "# In real scenario, you'd need patients with both tabular data and ECG\n",
    "print(f\"\\nTabular model predictions: {len(tabular_proba)} samples\")\n",
    "print(f\"ECG model predictions: {len(ecg_proba)} samples\")\n",
    "\n",
    "# Create synthetic ensemble for demonstration\n",
    "# Take minimum of both test set sizes\n",
    "min_size = min(len(tabular_proba), len(ecg_proba))\n",
    "ensemble_tabular_proba = tabular_proba[:min_size]\n",
    "ensemble_ecg_proba = ecg_proba[:min_size]\n",
    "ensemble_true_labels = y_tab_test.iloc[:min_size].values  # Use tabular labels\n",
    "\n",
    "# Ensemble strategies\n",
    "print(\"\\n[3.2] Testing ensemble strategies...\")\n",
    "\n",
    "ensemble_results = {}\n",
    "\n",
    "# Strategy 1: Average\n",
    "avg_proba = (ensemble_tabular_proba + ensemble_ecg_proba) / 2\n",
    "avg_pred = (avg_proba > 0.5).astype(int)\n",
    "ensemble_results['Average'] = {\n",
    "    'accuracy': accuracy_score(ensemble_true_labels, avg_pred),\n",
    "    'roc_auc': roc_auc_score(ensemble_true_labels, avg_proba)\n",
    "}\n",
    "\n",
    "# Strategy 2: Weighted Average (favor better model)\n",
    "tab_weight = tabular_results[best_tab_model]['roc_auc']\n",
    "ecg_weight = ecg_results[best_ecg_model]['roc_auc']\n",
    "total_weight = tab_weight + ecg_weight\n",
    "\n",
    "weighted_proba = (ensemble_tabular_proba * tab_weight + ensemble_ecg_proba * ecg_weight) / total_weight\n",
    "weighted_pred = (weighted_proba > 0.5).astype(int)\n",
    "ensemble_results['Weighted'] = {\n",
    "    'accuracy': accuracy_score(ensemble_true_labels, weighted_pred),\n",
    "    'roc_auc': roc_auc_score(ensemble_true_labels, weighted_proba)\n",
    "}\n",
    "\n",
    "# Strategy 3: Max (if either predicts high risk)\n",
    "max_proba = np.maximum(ensemble_tabular_proba, ensemble_ecg_proba)\n",
    "max_pred = (max_proba > 0.5).astype(int)\n",
    "ensemble_results['Max'] = {\n",
    "    'accuracy': accuracy_score(ensemble_true_labels, max_pred),\n",
    "    'roc_auc': roc_auc_score(ensemble_true_labels, max_proba)\n",
    "}\n",
    "\n",
    "# Strategy 4: Voting (both must agree for positive)\n",
    "voting_pred = ((ensemble_tabular_proba > 0.5) & (ensemble_ecg_proba > 0.5)).astype(int)\n",
    "voting_proba = (ensemble_tabular_proba + ensemble_ecg_proba) / 2\n",
    "ensemble_results['Voting'] = {\n",
    "    'accuracy': accuracy_score(ensemble_true_labels, voting_pred),\n",
    "    'roc_auc': roc_auc_score(ensemble_true_labels, voting_proba)\n",
    "}\n",
    "\n",
    "print(\"\\nEnsemble Strategy Results:\")\n",
    "for strategy, results in ensemble_results.items():\n",
    "    print(f\"  {strategy}: Accuracy={results['accuracy']:.4f}, ROC-AUC={results['roc_auc']:.4f}\")\n",
    "\n",
    "# Find best ensemble strategy\n",
    "best_ensemble = max(ensemble_results, key=lambda x: ensemble_results[x]['roc_auc'])\n",
    "print(f\"\\nBest Ensemble Strategy: {best_ensemble} (ROC-AUC: {ensemble_results[best_ensemble]['roc_auc']:.4f})\")"
   ]
  },
  {
   "cell_type": "code",
   "execution_count": null,
   "metadata": {
    "colab": {
     "base_uri": "https://localhost:8080/",
     "height": 625
    },
    "executionInfo": {
     "elapsed": 1633,
     "status": "ok",
     "timestamp": 1760990232611,
     "user": {
      "displayName": "536 Shaheen Nazir",
      "userId": "17535038285588932970"
     },
     "user_tz": -330
    },
    "id": "cQNxHS0NMU_Q",
    "outputId": "06976a8d-ec35-40b8-f421-6126d5cca543"
   },
   "outputs": [
    {
     "name": "stdout",
     "output_type": "stream",
     "text": [
      "\n",
      "================================================================================\n",
      "FINAL RESULTS SUMMARY\n",
      "================================================================================\n",
      "\n",
      "1. TABULAR MODEL RESULTS:\n",
      "   XGBoost        : ROC-AUC = 0.7970\n",
      "   LightGBM       : ROC-AUC = 0.7998\n",
      "   NeuralNetwork  : ROC-AUC = 0.7984\n",
      "   Transformer    : ROC-AUC = 0.7939\n",
      "\n",
      "2. ECG MODEL RESULTS:\n",
      "   1D_CNN         : ROC-AUC = 0.8328\n",
      "   LSTM           : ROC-AUC = 0.7571\n",
      "   Transformer    : ROC-AUC = 0.8311\n",
      "\n",
      "3. ENSEMBLE RESULTS:\n",
      "   Average        : ROC-AUC = 0.6983\n",
      "   Weighted       : ROC-AUC = 0.6945\n",
      "   Max            : ROC-AUC = 0.6472\n",
      "   Voting         : ROC-AUC = 0.6983\n"
     ]
    },
    {
     "data": {
      "image/png": "[encoded data removed]",
      "text/plain": [
       "<Figure size 1500x1200 with 4 Axes>"
      ]
     },
     "metadata": {},
     "output_type": "display_data"
    },
    {
     "name": "stdout",
     "output_type": "stream",
     "text": [
      "\n",
      "================================================================================\n",
      "SCRIPT EXECUTION COMPLETE\n",
      "================================================================================\n"
     ]
    }
   ],
   "source": [
    "# ============================================================================\n",
    "# FINAL RESULTS & VISUALIZATION\n",
    "# ============================================================================\n",
    "print(\"\\n\" + \"=\"*80)\n",
    "print(\"FINAL RESULTS SUMMARY\")\n",
    "print(\"=\"*80)\n",
    "\n",
    "print(\"\\n1. TABULAR MODEL RESULTS:\")\n",
    "for model_name, results in tabular_results.items():\n",
    "    print(f\"   {model_name:15s}: ROC-AUC = {results['roc_auc']:.4f}\")\n",
    "\n",
    "print(\"\\n2. ECG MODEL RESULTS:\")\n",
    "for model_name, results in ecg_results.items():\n",
    "    print(f\"   {model_name:15s}: ROC-AUC = {results['roc_auc']:.4f}\")\n",
    "\n",
    "print(\"\\n3. ENSEMBLE RESULTS:\")\n",
    "for strategy, results in ensemble_results.items():\n",
    "    print(f\"   {strategy:15s}: ROC-AUC = {results['roc_auc']:.4f}\")\n",
    "\n",
    "# Visualization\n",
    "fig, axes = plt.subplots(2, 2, figsize=(15, 12))\n",
    "\n",
    "# Plot 1: Tabular Model Comparison\n",
    "tab_names = list(tabular_results.keys())\n",
    "tab_scores = [tabular_results[m]['roc_auc'] for m in tab_names]\n",
    "axes[0, 0].bar(tab_names, tab_scores, color=['green', 'blue', 'orange', 'red'])\n",
    "axes[0, 0].set_title('Tabular Model Performance', fontsize=14, fontweight='bold')\n",
    "axes[0, 0].set_ylabel('ROC-AUC Score')\n",
    "axes[0, 0].set_ylim([0.7, 0.85])\n",
    "axes[0, 0].grid(axis='y', alpha=0.3)\n",
    "axes[0, 0].tick_params(axis='x', rotation=45)\n",
    "\n",
    "# Plot 2: ECG Model Comparison\n",
    "ecg_names = list(ecg_results.keys())\n",
    "ecg_scores = [ecg_results[m]['roc_auc'] for m in ecg_names]\n",
    "axes[0, 1].bar(ecg_names, ecg_scores, color=['purple', 'cyan', 'red'])\n",
    "axes[0, 1].set_title('ECG Model Performance', fontsize=14, fontweight='bold')\n",
    "axes[0, 1].set_ylabel('ROC-AUC Score')\n",
    "axes[0, 1].set_ylim([0.7, 1.0])\n",
    "axes[0, 1].grid(axis='y', alpha=0.3)\n",
    "\n",
    "# Plot 3: Ensemble Comparison\n",
    "ensemble_names = list(ensemble_results.keys())\n",
    "ensemble_scores = [ensemble_results[m]['roc_auc'] for m in ensemble_names]\n",
    "axes[1, 0].bar(ensemble_names, ensemble_scores, color=['gold', 'silver', 'brown', 'gray'])\n",
    "axes[1, 0].set_title('Ensemble Strategy Performance', fontsize=14, fontweight='bold')\n",
    "axes[1, 0].set_ylabel('ROC-AUC Score')\n",
    "axes[1, 0].set_ylim([0.7, 0.95])\n",
    "axes[1, 0].grid(axis='y', alpha=0.3)\n",
    "\n",
    "# Plot 4: Overall Comparison\n",
    "all_models = ['Best Tabular', 'Best ECG', 'Best Ensemble']\n",
    "all_scores = [\n",
    "    tabular_results[best_tab_model]['roc_auc'],\n",
    "    ecg_results[best_ecg_model]['roc_auc'],\n",
    "    ensemble_results[best_ensemble]['roc_auc']\n",
    "]\n",
    "axes[1, 1].bar(all_models, all_scores, color=['blue', 'purple', 'green'])\n",
    "axes[1, 1].set_title('Overall Best Model Comparison', fontsize=14, fontweight='bold')\n",
    "axes[1, 1].set_ylabel('ROC-AUC Score')\n",
    "axes[1, 1].set_ylim([0.7, 1.0])\n",
    "axes[1, 1].grid(axis='y', alpha=0.3)\n",
    "\n",
    "# Adjust layout\n",
    "plt.tight_layout(pad=3.0)\n",
    "plt.savefig('cardiovascular_model_summary.png')\n",
    "plt.show()\n",
    "\n",
    "print(\"\\n\" + \"=\"*80)\n",
    "print(\"SCRIPT EXECUTION COMPLETE\")\n",
    "print(\"=\"*80)"
   ]
  }
 ],
 "metadata": {
  "colab": {
   "provenance": [
    {
     "file_id": "1gqlu89phO5N3Ty4md3Mcx4uBAF97yEnc",
     "timestamp": 1760994302766
    },
    {
     "file_id": "1FWW08BoazIDSknnb5fZKkYyu_qMoIxvL",
     "timestamp": 1760984239744
    }
   ]
  },
  "kernelspec": {
   "display_name": "Python 3",
   "name": "python3"
  },
  "language_info": {
   "name": "python"
  }
 },
 "nbformat": 4,
 "nbformat_minor": 0
}
